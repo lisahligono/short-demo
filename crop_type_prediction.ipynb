{
  "nbformat": 4,
  "nbformat_minor": 0,
  "metadata": {
    "colab": {
      "provenance": [],
      "gpuType": "T4",
      "mount_file_id": "1YBBDNIraqoA20Gdf97bpRjPmjyC-UVyt",
      "authorship_tag": "ABX9TyO+3p+74vzXxp3RWd360CZ5",
      "include_colab_link": true
    },
    "kernelspec": {
      "name": "python3",
      "display_name": "Python 3"
    },
    "language_info": {
      "name": "python"
    },
    "accelerator": "GPU"
  },
  "cells": [
    {
      "cell_type": "markdown",
      "metadata": {
        "id": "view-in-github",
        "colab_type": "text"
      },
      "source": [
        "<a href=\"https://colab.research.google.com/github/lisahligono/short-demo/blob/main/Ligono_deep_learning.ipynb\" target=\"_parent\"><img src=\"https://colab.research.google.com/assets/colab-badge.svg\" alt=\"Open In Colab\"/></a>"
      ]
    },
    {
      "cell_type": "markdown",
      "source": [
        "#**Deep learning Project 2023-2024**\n",
        "Author: Lisah Khadiala Ligono\n",
        "\n",
        "\n"
      ],
      "metadata": {
        "id": "Egit-efKXnUf"
      }
    },
    {
      "cell_type": "code",
      "source": [
        "# Necessary libraries for the project\n",
        "import numpy as np\n",
        "import os\n",
        "import folium\n",
        "import pandas as pd\n",
        "from sklearn.model_selection import train_test_split\n",
        "import matplotlib.pyplot as plt\n",
        "import torch\n",
        "import torch.nn as nn\n",
        "from torch.utils.data import DataLoader\n",
        "import torch.optim as optim\n",
        "from sklearn.model_selection import train_test_split\n",
        "from sklearn.preprocessing import StandardScaler\n",
        "from sklearn.metrics import accuracy_score"
      ],
      "metadata": {
        "id": "PTudDJajmta8"
      },
      "execution_count": null,
      "outputs": []
    },
    {
      "cell_type": "markdown",
      "source": [
        "## **Introduction**\n",
        "For this project my area of study was the South of France abbreveated as *FR2*. Below is a map showing the area of interest covered with the red bounding box."
      ],
      "metadata": {
        "id": "F5raxzenYfTO"
      }
    },
    {
      "cell_type": "code",
      "source": [
        "# My area of study\n",
        "FR2_Lisah = [(1.0, 43.0), (2.0, 44.0)]\n",
        "lat = (FR2_Lisah[0][1] + FR2_Lisah[1][1]) / 2\n",
        "lon = (FR2_Lisah[0][0] + FR2_Lisah[1][0]) / 2\n",
        "aoi = folium.Map(location=[lat, lon], zoom_start=5)\n",
        "folium.Polygon(locations=[(FR2_Lisah[0][1], FR2_Lisah[0][0]),\n",
        "                           (FR2_Lisah[1][1], FR2_Lisah[0][0]),\n",
        "                           (FR2_Lisah[1][1], FR2_Lisah[1][0]),\n",
        "                           (FR2_Lisah[0][1], FR2_Lisah[1][0]),\n",
        "                           (FR2_Lisah[0][1], FR2_Lisah[0][0])],\n",
        "               color='red', fill=True, fill_color='red', fill_opacity=0.2).add_to(aoi)\n",
        "aoi"
      ],
      "metadata": {
        "colab": {
          "base_uri": "https://localhost:8080/",
          "height": 626
        },
        "id": "1jzwpFz8hWPf",
        "outputId": "bd26a658-1803-47f8-bd33-fd4d76db744b"
      },
      "execution_count": null,
      "outputs": [
        {
          "output_type": "execute_result",
          "data": {
            "text/plain": [
              "<folium.folium.Map at 0x7db19a937310>"
            ],
            "text/html": [
              "<div style=\"width:100%;\"><div style=\"position:relative;width:100%;height:0;padding-bottom:60%;\"><span style=\"color:#565656\">Make this Notebook Trusted to load map: File -> Trust Notebook</span><iframe srcdoc=\"&lt;!DOCTYPE html&gt;\n",
              "&lt;html&gt;\n",
              "&lt;head&gt;\n",
              "    \n",
              "    &lt;meta http-equiv=&quot;content-type&quot; content=&quot;text/html; charset=UTF-8&quot; /&gt;\n",
              "    \n",
              "        &lt;script&gt;\n",
              "            L_NO_TOUCH = false;\n",
              "            L_DISABLE_3D = false;\n",
              "        &lt;/script&gt;\n",
              "    \n",
              "    &lt;style&gt;html, body {width: 100%;height: 100%;margin: 0;padding: 0;}&lt;/style&gt;\n",
              "    &lt;style&gt;#map {position:absolute;top:0;bottom:0;right:0;left:0;}&lt;/style&gt;\n",
              "    &lt;script src=&quot;https://cdn.jsdelivr.net/npm/leaflet@1.9.3/dist/leaflet.js&quot;&gt;&lt;/script&gt;\n",
              "    &lt;script src=&quot;https://code.jquery.com/jquery-1.12.4.min.js&quot;&gt;&lt;/script&gt;\n",
              "    &lt;script src=&quot;https://cdn.jsdelivr.net/npm/bootstrap@5.2.2/dist/js/bootstrap.bundle.min.js&quot;&gt;&lt;/script&gt;\n",
              "    &lt;script src=&quot;https://cdnjs.cloudflare.com/ajax/libs/Leaflet.awesome-markers/2.0.2/leaflet.awesome-markers.js&quot;&gt;&lt;/script&gt;\n",
              "    &lt;link rel=&quot;stylesheet&quot; href=&quot;https://cdn.jsdelivr.net/npm/leaflet@1.9.3/dist/leaflet.css&quot;/&gt;\n",
              "    &lt;link rel=&quot;stylesheet&quot; href=&quot;https://cdn.jsdelivr.net/npm/bootstrap@5.2.2/dist/css/bootstrap.min.css&quot;/&gt;\n",
              "    &lt;link rel=&quot;stylesheet&quot; href=&quot;https://netdna.bootstrapcdn.com/bootstrap/3.0.0/css/bootstrap.min.css&quot;/&gt;\n",
              "    &lt;link rel=&quot;stylesheet&quot; href=&quot;https://cdn.jsdelivr.net/npm/@fortawesome/fontawesome-free@6.2.0/css/all.min.css&quot;/&gt;\n",
              "    &lt;link rel=&quot;stylesheet&quot; href=&quot;https://cdnjs.cloudflare.com/ajax/libs/Leaflet.awesome-markers/2.0.2/leaflet.awesome-markers.css&quot;/&gt;\n",
              "    &lt;link rel=&quot;stylesheet&quot; href=&quot;https://cdn.jsdelivr.net/gh/python-visualization/folium/folium/templates/leaflet.awesome.rotate.min.css&quot;/&gt;\n",
              "    \n",
              "            &lt;meta name=&quot;viewport&quot; content=&quot;width=device-width,\n",
              "                initial-scale=1.0, maximum-scale=1.0, user-scalable=no&quot; /&gt;\n",
              "            &lt;style&gt;\n",
              "                #map_5d89edc21c98bba2e27ba789bf61e0b9 {\n",
              "                    position: relative;\n",
              "                    width: 100.0%;\n",
              "                    height: 100.0%;\n",
              "                    left: 0.0%;\n",
              "                    top: 0.0%;\n",
              "                }\n",
              "                .leaflet-container { font-size: 1rem; }\n",
              "            &lt;/style&gt;\n",
              "        \n",
              "&lt;/head&gt;\n",
              "&lt;body&gt;\n",
              "    \n",
              "    \n",
              "            &lt;div class=&quot;folium-map&quot; id=&quot;map_5d89edc21c98bba2e27ba789bf61e0b9&quot; &gt;&lt;/div&gt;\n",
              "        \n",
              "&lt;/body&gt;\n",
              "&lt;script&gt;\n",
              "    \n",
              "    \n",
              "            var map_5d89edc21c98bba2e27ba789bf61e0b9 = L.map(\n",
              "                &quot;map_5d89edc21c98bba2e27ba789bf61e0b9&quot;,\n",
              "                {\n",
              "                    center: [43.5, 1.5],\n",
              "                    crs: L.CRS.EPSG3857,\n",
              "                    zoom: 5,\n",
              "                    zoomControl: true,\n",
              "                    preferCanvas: false,\n",
              "                }\n",
              "            );\n",
              "\n",
              "            \n",
              "\n",
              "        \n",
              "    \n",
              "            var tile_layer_eab3c29cd91fb61fe427b9731060dbd5 = L.tileLayer(\n",
              "                &quot;https://{s}.tile.openstreetmap.org/{z}/{x}/{y}.png&quot;,\n",
              "                {&quot;attribution&quot;: &quot;Data by \\u0026copy; \\u003ca target=\\&quot;_blank\\&quot; href=\\&quot;http://openstreetmap.org\\&quot;\\u003eOpenStreetMap\\u003c/a\\u003e, under \\u003ca target=\\&quot;_blank\\&quot; href=\\&quot;http://www.openstreetmap.org/copyright\\&quot;\\u003eODbL\\u003c/a\\u003e.&quot;, &quot;detectRetina&quot;: false, &quot;maxNativeZoom&quot;: 18, &quot;maxZoom&quot;: 18, &quot;minZoom&quot;: 0, &quot;noWrap&quot;: false, &quot;opacity&quot;: 1, &quot;subdomains&quot;: &quot;abc&quot;, &quot;tms&quot;: false}\n",
              "            ).addTo(map_5d89edc21c98bba2e27ba789bf61e0b9);\n",
              "        \n",
              "    \n",
              "            var polygon_660f6d642c1121f6abab347d60be11b3 = L.polygon(\n",
              "                [[43.0, 1.0], [44.0, 1.0], [44.0, 2.0], [43.0, 2.0], [43.0, 1.0]],\n",
              "                {&quot;bubblingMouseEvents&quot;: true, &quot;color&quot;: &quot;red&quot;, &quot;dashArray&quot;: null, &quot;dashOffset&quot;: null, &quot;fill&quot;: true, &quot;fillColor&quot;: &quot;red&quot;, &quot;fillOpacity&quot;: 0.2, &quot;fillRule&quot;: &quot;evenodd&quot;, &quot;lineCap&quot;: &quot;round&quot;, &quot;lineJoin&quot;: &quot;round&quot;, &quot;noClip&quot;: false, &quot;opacity&quot;: 1.0, &quot;smoothFactor&quot;: 1.0, &quot;stroke&quot;: true, &quot;weight&quot;: 3}\n",
              "            ).addTo(map_5d89edc21c98bba2e27ba789bf61e0b9);\n",
              "        \n",
              "&lt;/script&gt;\n",
              "&lt;/html&gt;\" style=\"position:absolute;width:100%;height:100%;left:0;top:0;border:none !important;\" allowfullscreen webkitallowfullscreen mozallowfullscreen></iframe></div></div>"
            ]
          },
          "metadata": {},
          "execution_count": 2
        }
      ]
    },
    {
      "cell_type": "markdown",
      "source": [
        "## **Data**\n",
        "I loaded the data as per the guidance provided in the assignment document."
      ],
      "metadata": {
        "id": "P13QVCcsZ0oL"
      }
    },
    {
      "cell_type": "code",
      "source": [
        "data_path = \"/content/drive/MyDrive/FR2_DL/data_FR2.npz\"\n",
        "\n",
        "# Loading the data\n",
        "data = np.load(data_path, allow_pickle=True)\n",
        "\n",
        "series = data['series']\n",
        "labels = data['labels']\n",
        "dates = data['dates']\n",
        "class_names = data['class_names']"
      ],
      "metadata": {
        "id": "PdeYo-YRnq04"
      },
      "execution_count": null,
      "outputs": []
    },
    {
      "cell_type": "markdown",
      "source": [
        "## **Data characteristics**\n",
        "The following section is set to answer the following questions:\n",
        "- Identify the learning task to be solved\n",
        "- Determine the number of features in the dataset and their type\n",
        "- Look at the descriptive statistics for quantitative explanatory variables\n",
        "- If you think it is necessary, normalize the data\n",
        "- Look at the class distribution\n",
        "- Based on your analysis, choose the cost function you will use to train your deep learning models"
      ],
      "metadata": {
        "id": "G7-IVuOdpqIj"
      }
    },
    {
      "cell_type": "code",
      "source": [
        "# Determining the number of features using the 'shape' attribute\n",
        "m, l, d = series.shape\n",
        "\n",
        "print(f\"Number of time series (m): {m}\")\n",
        "print(f\"Length of time series (l): {l}\")\n",
        "print(f\"Number of channels in the images (d): {d}\")"
      ],
      "metadata": {
        "colab": {
          "base_uri": "https://localhost:8080/"
        },
        "id": "Tu76FGkEORXN",
        "outputId": "127ac1d2-a9c8-4c59-9a30-ab3bf82b3336"
      },
      "execution_count": null,
      "outputs": [
        {
          "output_type": "stream",
          "name": "stdout",
          "text": [
            "Number of time series (m): 89985\n",
            "Length of time series (l): 39\n",
            "Number of channels in the images (d): 10\n"
          ]
        }
      ]
    },
    {
      "cell_type": "code",
      "source": [
        "# Checking the data type of the features\n",
        "feature_type = series.dtype\n",
        "print(f\"Data type: {feature_type}\")"
      ],
      "metadata": {
        "colab": {
          "base_uri": "https://localhost:8080/"
        },
        "id": "JolvXHEjPAaF",
        "outputId": "c20ea011-a879-4b58-8856-a1a89addb672"
      },
      "execution_count": null,
      "outputs": [
        {
          "output_type": "stream",
          "name": "stdout",
          "text": [
            "Data type: float64\n"
          ]
        }
      ]
    },
    {
      "cell_type": "code",
      "source": [
        "print(class_names)\n",
        "class_names.shape"
      ],
      "metadata": {
        "colab": {
          "base_uri": "https://localhost:8080/"
        },
        "id": "1WOPbvbIoEVc",
        "outputId": "f51a9885-3657-4555-9370-9711945a34be"
      },
      "execution_count": null,
      "outputs": [
        {
          "output_type": "stream",
          "name": "stdout",
          "text": [
            "['corn' 'horsebeans' 'meadow' 'spring_barley' 'spring_oat' 'spring_peas'\n",
            " 'spring_rapeseed' 'spring_rye' 'spring_triticale' 'spring_wheat'\n",
            " 'sunflowers' 'unknown' 'winter_barley' 'winter_oat' 'winter_peas'\n",
            " 'winter_rapeseed' 'winter_rye' 'winter_triticale' 'winter_wheat']\n"
          ]
        },
        {
          "output_type": "execute_result",
          "data": {
            "text/plain": [
              "(19,)"
            ]
          },
          "metadata": {},
          "execution_count": 6
        }
      ]
    },
    {
      "cell_type": "code",
      "source": [
        "# Calculate class distribution\n",
        "unique_classes, class_counts = np.unique(labels, return_counts=True)\n",
        "\n",
        "# Visualize class distribution\n",
        "plt.figure(figsize=(8, 6))\n",
        "plt.bar(unique_classes, class_counts, color='blue')\n",
        "plt.xlabel('Class Labels')\n",
        "plt.ylabel('Count')\n",
        "plt.title('Dataset class distribution')\n",
        "plt.xticks(unique_classes)\n",
        "plt.show()"
      ],
      "metadata": {
        "colab": {
          "base_uri": "https://localhost:8080/",
          "height": 564
        },
        "id": "yQ1hBqrG5zR9",
        "outputId": "785711ec-a51f-4fb6-8381-b4a37a0639f9"
      },
      "execution_count": null,
      "outputs": [
        {
          "output_type": "display_data",
          "data": {
            "text/plain": [
              "<Figure size 800x600 with 1 Axes>"
            ],
            "image/png": "[encoded data removed]"
          },
          "metadata": {}
        }
      ]
    },
    {
      "cell_type": "markdown",
      "source": [
        "The graph above shows the dataset distribution for each class. We can identify that class 18 has the highest number of datasets while class 6, 7, 8 having almost negligible datasets.\n",
        "\n",
        "1. I have established that this is a ***classification*** task that involves classifying crop-types\n",
        "2. By establishing this fact, the cost function that I will use is the CrossEntropy Loss Function since this multi-class classification."
      ],
      "metadata": {
        "id": "LutyCnugy3R9"
      }
    },
    {
      "cell_type": "markdown",
      "source": [
        "# **Data preparation**\n",
        "To prepare the data for analysis, I did a train-test split on the dataset as expalined below:"
      ],
      "metadata": {
        "id": "sxHvjI6FqQ18"
      }
    },
    {
      "cell_type": "code",
      "source": [
        "# Defining the proportions for train, validation, and test sets\n",
        "train_size = 0.8  # 80% of the data for training\n",
        "val_size = 0.1    # 10% of the data for validation\n",
        "test_size = 0.1   # 10% of the data for testing\n",
        "\n",
        "# Splitting the data into train, validation, and test sets\n",
        "series_train, series_temp, labels_train, labels_temp = train_test_split(\n",
        "    series, labels, test_size=(val_size + test_size), random_state=42)\n",
        "series_val, series_test, labels_val, labels_test = train_test_split(\n",
        "    series_temp, labels_temp, test_size=(test_size / (val_size + test_size)), random_state=42)\n",
        "\n",
        "print(\"Train set shapes:\", series_train.shape, labels_train.shape)\n",
        "print(\"Validation set shapes:\", series_val.shape, labels_val.shape)\n",
        "print(\"Test set shapes:\", series_test.shape, labels_test.shape)\n"
      ],
      "metadata": {
        "colab": {
          "base_uri": "https://localhost:8080/"
        },
        "id": "cDsRlLcXobBR",
        "outputId": "dcea1ac0-04c3-49f4-ffed-e149be492d2e"
      },
      "execution_count": null,
      "outputs": [
        {
          "output_type": "stream",
          "name": "stdout",
          "text": [
            "Train set shapes: (71988, 39, 10) (71988,)\n",
            "Validation set shapes: (8998, 39, 10) (8998,)\n",
            "Test set shapes: (8999, 39, 10) (8999,)\n"
          ]
        }
      ]
    },
    {
      "cell_type": "markdown",
      "source": [
        "# **Deep learning models**\n",
        "**Question**: You should implement and test a multi-layer perceptron (MLP), and compare it to one or two other models that take into account the temporal structure of the data (e.g., 1D-convolutional neural network or recurrent neural networks). For each model, you must justify the architectures used and explain how you have tuned the values for the various hyper-parameters.\n"
      ],
      "metadata": {
        "id": "oexEgP7iqjo-"
      }
    },
    {
      "cell_type": "markdown",
      "source": [
        "## **MLP**\n",
        "###***Architecture Choices***:\n",
        "- I flattened the input layer into a flat ector since this is a multi-dimensional dataset `m,l,d: 89985, 39,10` before inputing it to the MLP.\n",
        "\n",
        "\n",
        "- I chose two hidden layers (fc1 and fc2) used with the ReLU activation functions (nn.ReLU()). The choice of ReLU is because it introduces non-linearity and helps the network learn complex patterns.\n",
        "\n",
        "- The output layer (fc3) uses the number of classes as the output size, and it has a softmax activation function since this is a multi-class classification.\n",
        "\n",
        "###***Hyperparameter Tuning***:\n",
        "- I chose 2 hidden layers due to the time-constraint and I did not want to build a very complex model.\n",
        "\n",
        "- I chose a learning rate of 0.001 arbitrarily and the model was converging thus retaining the value\n",
        "\n",
        "- I first set the number of epochs to `10` in order to quickly view how the model was behaving. I later increased it progressively to `50` since this was the threshold that was giving me a smooth loss function curve."
      ],
      "metadata": {
        "id": "ew84kAvjZgd5"
      }
    },
    {
      "cell_type": "code",
      "source": [
        "# Converting the data to PyTorch tensors\n",
        "series_train_tensor = torch.tensor(series_train, dtype=torch.float32)\n",
        "labels_train_tensor = torch.tensor(labels_train, dtype=torch.long)\n",
        "series_val_tensor = torch.tensor(series_val, dtype=torch.float32)\n",
        "labels_val_tensor = torch.tensor(labels_val, dtype=torch.long)\n",
        "series_test_tensor = torch.tensor(series_test, dtype=torch.float32)\n",
        "labels_test_tensor = torch.tensor(labels_test, dtype=torch.long)"
      ],
      "metadata": {
        "id": "YiIdYVgIqovt"
      },
      "execution_count": null,
      "outputs": []
    },
    {
      "cell_type": "code",
      "source": [
        "class MLP(nn.Module):\n",
        "    def __init__(self, input_size, hidden_size1, hidden_size2, output_size):\n",
        "        super(MLP, self).__init__()\n",
        "        self.flatten = nn.Flatten()\n",
        "        self.fc1 = nn.Linear(input_size, hidden_size1)\n",
        "        self.relu1 = nn.ReLU()\n",
        "        self.fc2 = nn.Linear(hidden_size1, hidden_size2)\n",
        "        self.relu2 = nn.ReLU()\n",
        "        self.fc3 = nn.Linear(hidden_size2, output_size)\n",
        "\n",
        "    def forward(self, x):\n",
        "        x = self.flatten(x)\n",
        "        x = self.fc1(x)\n",
        "        x = self.relu1(x)\n",
        "        x = self.fc2(x)\n",
        "        x = self.relu2(x)\n",
        "        x = self.fc3(x)\n",
        "        return x"
      ],
      "metadata": {
        "id": "03RcXJXaVEFf"
      },
      "execution_count": null,
      "outputs": []
    },
    {
      "cell_type": "code",
      "source": [
        "# Setting the hyperparameters\n",
        "input_size = series_train.shape[1] * series_train.shape[2]\n",
        "hidden_size1 = 64\n",
        "hidden_size2 = 32\n",
        "output_size = len(class_names)\n",
        "learning_rate = 0.001\n",
        "epochs = 50\n",
        "\n",
        "# Instantiating the model, loss function, and optimizer\n",
        "model = MLP(input_size, hidden_size1, hidden_size2, output_size)\n",
        "criterion = nn.CrossEntropyLoss()\n",
        "optimizer = optim.Adam(model.parameters(), lr=learning_rate)"
      ],
      "metadata": {
        "id": "blv31sy1VelW"
      },
      "execution_count": null,
      "outputs": []
    },
    {
      "cell_type": "code",
      "source": [
        "# Lists to store training and validation loss and accuracy\n",
        "train_loss_list = []\n",
        "val_loss_list = []\n",
        "train_acc_list = []\n",
        "val_acc_list = []\n",
        "\n",
        "# Training loop\n",
        "for epoch in range(epochs):\n",
        "    optimizer.zero_grad()\n",
        "    outputs = model(series_train_tensor)\n",
        "    loss = criterion(outputs, labels_train_tensor)\n",
        "    loss.backward()\n",
        "    optimizer.step()\n",
        "\n",
        "#Training accuracy\n",
        "    _, predicted_train = torch.max(outputs, 1)\n",
        "    accuracy_train_mlp = accuracy_score(labels_train_tensor.numpy(), predicted_train.numpy())\n",
        "\n",
        "# Validation\n",
        "    with torch.no_grad():\n",
        "        model.eval()\n",
        "        outputs_val = model(series_val_tensor)\n",
        "        loss_val = criterion(outputs_val, labels_val_tensor)\n",
        "        _, predicted_val = torch.max(outputs_val, 1)\n",
        "        accuracy_val_mlp = accuracy_score(labels_val_tensor.numpy(), predicted_val.numpy())\n",
        "\n",
        "# Append to lists\n",
        "    train_loss_list.append(loss.item())\n",
        "    val_loss_list.append(loss_val.item())\n",
        "    train_acc_list.append(accuracy_train_mlp)\n",
        "    val_acc_list.append(accuracy_val_mlp)\n",
        "\n",
        "    if (epoch + 1) % 1 == 0:\n",
        "        print(f'Epoch [{epoch + 1}/{epochs}], Loss: {loss.item():.3f}, Validation Loss: {loss_val.item():.3f}, '\n",
        "              f'Training Accuracy: {accuracy_train_mlp:.3f}, Validation Accuracy: {accuracy_val_mlp:.3f}')"
      ],
      "metadata": {
        "colab": {
          "base_uri": "https://localhost:8080/"
        },
        "id": "wTaZWm1UVl9N",
        "outputId": "b9b6e979-29cb-4328-94be-0c9b442ae2b4"
      },
      "execution_count": null,
      "outputs": [
        {
          "output_type": "stream",
          "name": "stdout",
          "text": [
            "Epoch [1/50], Loss: 10.220, Validation Loss: 10.073, Training Accuracy: 0.459, Validation Accuracy: 0.469\n",
            "Epoch [2/50], Loss: 10.111, Validation Loss: 9.975, Training Accuracy: 0.464, Validation Accuracy: 0.466\n",
            "Epoch [3/50], Loss: 10.019, Validation Loss: 9.717, Training Accuracy: 0.460, Validation Accuracy: 0.462\n",
            "Epoch [4/50], Loss: 9.757, Validation Loss: 9.518, Training Accuracy: 0.456, Validation Accuracy: 0.456\n",
            "Epoch [5/50], Loss: 9.543, Validation Loss: 9.391, Training Accuracy: 0.454, Validation Accuracy: 0.457\n",
            "Epoch [6/50], Loss: 9.395, Validation Loss: 9.122, Training Accuracy: 0.456, Validation Accuracy: 0.466\n",
            "Epoch [7/50], Loss: 9.122, Validation Loss: 8.782, Training Accuracy: 0.465, Validation Accuracy: 0.478\n",
            "Epoch [8/50], Loss: 8.801, Validation Loss: 8.589, Training Accuracy: 0.472, Validation Accuracy: 0.477\n",
            "Epoch [9/50], Loss: 8.628, Validation Loss: 8.415, Training Accuracy: 0.471, Validation Accuracy: 0.471\n",
            "Epoch [10/50], Loss: 8.457, Validation Loss: 8.114, Training Accuracy: 0.467, Validation Accuracy: 0.471\n",
            "Epoch [11/50], Loss: 8.143, Validation Loss: 7.936, Training Accuracy: 0.470, Validation Accuracy: 0.475\n",
            "Epoch [12/50], Loss: 7.940, Validation Loss: 7.822, Training Accuracy: 0.473, Validation Accuracy: 0.478\n",
            "Epoch [13/50], Loss: 7.814, Validation Loss: 7.598, Training Accuracy: 0.478, Validation Accuracy: 0.482\n",
            "Epoch [14/50], Loss: 7.597, Validation Loss: 7.420, Training Accuracy: 0.483, Validation Accuracy: 0.479\n",
            "Epoch [15/50], Loss: 7.429, Validation Loss: 7.302, Training Accuracy: 0.483, Validation Accuracy: 0.478\n",
            "Epoch [16/50], Loss: 7.310, Validation Loss: 7.112, Training Accuracy: 0.482, Validation Accuracy: 0.482\n",
            "Epoch [17/50], Loss: 7.103, Validation Loss: 7.018, Training Accuracy: 0.486, Validation Accuracy: 0.488\n",
            "Epoch [18/50], Loss: 6.986, Validation Loss: 6.933, Training Accuracy: 0.488, Validation Accuracy: 0.488\n",
            "Epoch [19/50], Loss: 6.893, Validation Loss: 6.750, Training Accuracy: 0.486, Validation Accuracy: 0.485\n",
            "Epoch [20/50], Loss: 6.720, Validation Loss: 6.626, Training Accuracy: 0.486, Validation Accuracy: 0.483\n",
            "Epoch [21/50], Loss: 6.611, Validation Loss: 6.506, Training Accuracy: 0.486, Validation Accuracy: 0.488\n",
            "Epoch [22/50], Loss: 6.491, Validation Loss: 6.383, Training Accuracy: 0.490, Validation Accuracy: 0.497\n",
            "Epoch [23/50], Loss: 6.354, Validation Loss: 6.292, Training Accuracy: 0.497, Validation Accuracy: 0.499\n",
            "Epoch [24/50], Loss: 6.249, Validation Loss: 6.161, Training Accuracy: 0.499, Validation Accuracy: 0.496\n",
            "Epoch [25/50], Loss: 6.111, Validation Loss: 6.038, Training Accuracy: 0.496, Validation Accuracy: 0.494\n",
            "Epoch [26/50], Loss: 5.986, Validation Loss: 5.947, Training Accuracy: 0.494, Validation Accuracy: 0.499\n",
            "Epoch [27/50], Loss: 5.889, Validation Loss: 5.849, Training Accuracy: 0.499, Validation Accuracy: 0.508\n",
            "Epoch [28/50], Loss: 5.777, Validation Loss: 5.764, Training Accuracy: 0.510, Validation Accuracy: 0.515\n",
            "Epoch [29/50], Loss: 5.682, Validation Loss: 5.659, Training Accuracy: 0.516, Validation Accuracy: 0.514\n",
            "Epoch [30/50], Loss: 5.580, Validation Loss: 5.562, Training Accuracy: 0.516, Validation Accuracy: 0.510\n",
            "Epoch [31/50], Loss: 5.494, Validation Loss: 5.481, Training Accuracy: 0.511, Validation Accuracy: 0.513\n",
            "Epoch [32/50], Loss: 5.414, Validation Loss: 5.395, Training Accuracy: 0.512, Validation Accuracy: 0.522\n",
            "Epoch [33/50], Loss: 5.316, Validation Loss: 5.328, Training Accuracy: 0.522, Validation Accuracy: 0.526\n",
            "Epoch [34/50], Loss: 5.237, Validation Loss: 5.245, Training Accuracy: 0.527, Validation Accuracy: 0.525\n",
            "Epoch [35/50], Loss: 5.149, Validation Loss: 5.160, Training Accuracy: 0.526, Validation Accuracy: 0.521\n",
            "Epoch [36/50], Loss: 5.069, Validation Loss: 5.081, Training Accuracy: 0.521, Validation Accuracy: 0.521\n",
            "Epoch [37/50], Loss: 4.993, Validation Loss: 5.000, Training Accuracy: 0.520, Validation Accuracy: 0.529\n",
            "Epoch [38/50], Loss: 4.907, Validation Loss: 4.938, Training Accuracy: 0.528, Validation Accuracy: 0.536\n",
            "Epoch [39/50], Loss: 4.841, Validation Loss: 4.863, Training Accuracy: 0.536, Validation Accuracy: 0.536\n",
            "Epoch [40/50], Loss: 4.769, Validation Loss: 4.791, Training Accuracy: 0.537, Validation Accuracy: 0.533\n",
            "Epoch [41/50], Loss: 4.700, Validation Loss: 4.727, Training Accuracy: 0.534, Validation Accuracy: 0.534\n",
            "Epoch [42/50], Loss: 4.633, Validation Loss: 4.670, Training Accuracy: 0.534, Validation Accuracy: 0.539\n",
            "Epoch [43/50], Loss: 4.567, Validation Loss: 4.615, Training Accuracy: 0.540, Validation Accuracy: 0.545\n",
            "Epoch [44/50], Loss: 4.506, Validation Loss: 4.550, Training Accuracy: 0.545, Validation Accuracy: 0.545\n",
            "Epoch [45/50], Loss: 4.441, Validation Loss: 4.487, Training Accuracy: 0.545, Validation Accuracy: 0.545\n",
            "Epoch [46/50], Loss: 4.382, Validation Loss: 4.430, Training Accuracy: 0.545, Validation Accuracy: 0.547\n",
            "Epoch [47/50], Loss: 4.322, Validation Loss: 4.379, Training Accuracy: 0.547, Validation Accuracy: 0.550\n",
            "Epoch [48/50], Loss: 4.268, Validation Loss: 4.324, Training Accuracy: 0.550, Validation Accuracy: 0.551\n",
            "Epoch [49/50], Loss: 4.210, Validation Loss: 4.269, Training Accuracy: 0.553, Validation Accuracy: 0.551\n",
            "Epoch [50/50], Loss: 4.157, Validation Loss: 4.218, Training Accuracy: 0.553, Validation Accuracy: 0.553\n"
          ]
        }
      ]
    },
    {
      "cell_type": "code",
      "source": [
        "# Plotting training and validation loss\n",
        "plt.figure(figsize=(13, 5))\n",
        "plt.subplot(1, 2, 1)\n",
        "plt.plot(range(1, epochs + 1), train_loss_list, label='Training Loss')\n",
        "plt.plot(range(1, epochs + 1), val_loss_list, label='Validation Loss')\n",
        "plt.title('Training and Validation Loss')\n",
        "plt.xlabel('Epochs')\n",
        "plt.ylabel('Loss')\n",
        "plt.legend()\n",
        "\n",
        "# Plotting training and validation accuracy\n",
        "plt.subplot(1, 2, 2)\n",
        "plt.plot(range(1, epochs + 1), train_acc_list, label='Training Accuracy')\n",
        "plt.plot(range(1, epochs + 1), val_acc_list, label='Validation Accuracy')\n",
        "plt.title('Training and Validation Accuracy')\n",
        "plt.xlabel('Epochs')\n",
        "plt.ylabel('Accuracy')\n",
        "plt.legend()\n",
        "plt.show()"
      ],
      "metadata": {
        "colab": {
          "base_uri": "https://localhost:8080/",
          "height": 461
        },
        "id": "C_c0SpwUYhOG",
        "outputId": "d6cf94ba-e3df-4d22-966f-2b1bda4a9eb9"
      },
      "execution_count": null,
      "outputs": [
        {
          "output_type": "display_data",
          "data": {
            "text/plain": [
              "<Figure size 1300x500 with 2 Axes>"
            ],
            "image/png": "[encoded data removed]"
          },
          "metadata": {}
        }
      ]
    },
    {
      "cell_type": "code",
      "source": [
        "# Evaluation on the test set\n",
        "with torch.no_grad():\n",
        "    model.eval()\n",
        "    outputs_test = model(series_test_tensor)\n",
        "    _, predicted_test = torch.max(outputs_test, 1)\n",
        "    accuracy_test_mlp = accuracy_score(labels_test_tensor.numpy(), predicted_test.numpy())\n",
        "    print(f'Accuracy on the test set: {accuracy_test_mlp:.3f}')"
      ],
      "metadata": {
        "colab": {
          "base_uri": "https://localhost:8080/"
        },
        "id": "VmqRE0xNVtpq",
        "outputId": "a80be1b7-1151-471d-a964-47047e5985e0"
      },
      "execution_count": null,
      "outputs": [
        {
          "output_type": "stream",
          "name": "stdout",
          "text": [
            "Accuracy on the test set: 0.549\n"
          ]
        }
      ]
    },
    {
      "cell_type": "markdown",
      "source": [
        "# **Recurrent Neural Network**\n",
        "\n",
        "For my second model, I chose the RNN\n",
        "\n",
        "###***Architecture Choices:***\n",
        "\n",
        "- I also chose 2 layers here in order to fairly compare the performance with that of the MLP.\n",
        "\n",
        "###***Hyperparameter Tuning:***\n",
        "\n",
        "- I chose the same hyperparameters as those of the MLP architectures so as to fairly evaluate the two models."
      ],
      "metadata": {
        "id": "uSe1UTEba7H_"
      }
    },
    {
      "cell_type": "code",
      "source": [
        "input_size = series_train.shape[2]\n",
        "device = torch.device(\"cuda\" if torch.cuda.is_available() else \"cpu\")"
      ],
      "metadata": {
        "id": "XU-0k2rRqmkV"
      },
      "execution_count": null,
      "outputs": []
    },
    {
      "cell_type": "code",
      "source": [
        "class LSTM(nn.Module):\n",
        "    def __init__(self, input_size, hidden_size, num_layers, output_size):\n",
        "        super(LSTM, self).__init__()\n",
        "        self.lstm = nn.LSTM(input_size, hidden_size, num_layers, batch_first=True)\n",
        "        self.fc = nn.Linear(hidden_size, output_size)\n",
        "\n",
        "    def forward(self, x):\n",
        "        _, (hn, _) = self.lstm(x)\n",
        "        out = self.fc(hn[-1, :, :])\n",
        "        return out"
      ],
      "metadata": {
        "id": "DJIqt_78a6Oz"
      },
      "execution_count": null,
      "outputs": []
    },
    {
      "cell_type": "code",
      "source": [
        "# Settin the hyperparameters\n",
        "hidden_size = 64\n",
        "num_layers = 2\n",
        "output_size = len(class_names)\n",
        "learning_rate = 0.001\n",
        "epochs = 50\n",
        "batch_size = 32\n",
        "\n",
        "model = LSTM(input_size, hidden_size, num_layers, output_size).to(device)\n",
        "criterion = nn.CrossEntropyLoss()\n",
        "optimizer = optim.Adam(model.parameters(), lr=learning_rate)"
      ],
      "metadata": {
        "id": "dLaMZiC1bVPn"
      },
      "execution_count": null,
      "outputs": []
    },
    {
      "cell_type": "code",
      "source": [
        "# I decided to train the data in batches because the model kept crashing\n",
        "train_loader = DataLoader(dataset=list(zip(series_train_tensor, labels_train_tensor)), batch_size=batch_size, shuffle=True)\n",
        "val_loader = DataLoader(dataset=list(zip(series_val_tensor, labels_val_tensor)), batch_size=batch_size, shuffle=False)\n",
        "test_loader = DataLoader(dataset=list(zip(series_test_tensor, labels_test_tensor)), batch_size=batch_size, shuffle=False)\n",
        "\n",
        "# Training loop\n",
        "for epoch in range(epochs):\n",
        "    model.train()\n",
        "    for batch_series, batch_labels in train_loader:\n",
        "        batch_series, batch_labels = batch_series.to(device), batch_labels.to(device)\n",
        "\n",
        "        optimizer.zero_grad()\n",
        "        outputs = model(batch_series)\n",
        "        loss = criterion(outputs, batch_labels)\n",
        "        loss.backward()\n",
        "        optimizer.step()\n",
        "\n",
        "    if (epoch + 1) % 1 == 0:\n",
        "        print(f'Epoch [{epoch + 1}/{epochs}], Loss: {loss.item():.3f}')"
      ],
      "metadata": {
        "id": "TRDoXqXobleL",
        "colab": {
          "base_uri": "https://localhost:8080/"
        },
        "outputId": "b57cce6a-79ee-4d1b-8517-7e6cd4d2bd01"
      },
      "execution_count": null,
      "outputs": [
        {
          "output_type": "stream",
          "name": "stdout",
          "text": [
            "Epoch [1/50], Loss: 1.499\n",
            "Epoch [2/50], Loss: 1.108\n",
            "Epoch [3/50], Loss: 0.961\n",
            "Epoch [4/50], Loss: 0.663\n",
            "Epoch [5/50], Loss: 0.775\n",
            "Epoch [6/50], Loss: 1.206\n",
            "Epoch [7/50], Loss: 0.921\n",
            "Epoch [8/50], Loss: 1.185\n",
            "Epoch [9/50], Loss: 0.482\n",
            "Epoch [10/50], Loss: 0.682\n",
            "Epoch [11/50], Loss: 0.861\n",
            "Epoch [12/50], Loss: 0.991\n",
            "Epoch [13/50], Loss: 0.777\n",
            "Epoch [14/50], Loss: 1.349\n",
            "Epoch [15/50], Loss: 1.030\n",
            "Epoch [16/50], Loss: 0.657\n",
            "Epoch [17/50], Loss: 0.767\n",
            "Epoch [18/50], Loss: 1.025\n",
            "Epoch [19/50], Loss: 0.539\n",
            "Epoch [20/50], Loss: 0.486\n",
            "Epoch [21/50], Loss: 1.063\n",
            "Epoch [22/50], Loss: 0.920\n",
            "Epoch [23/50], Loss: 0.486\n",
            "Epoch [24/50], Loss: 0.836\n",
            "Epoch [25/50], Loss: 0.816\n",
            "Epoch [26/50], Loss: 0.841\n",
            "Epoch [27/50], Loss: 0.646\n",
            "Epoch [28/50], Loss: 0.391\n",
            "Epoch [29/50], Loss: 0.957\n",
            "Epoch [30/50], Loss: 0.834\n",
            "Epoch [31/50], Loss: 0.844\n",
            "Epoch [32/50], Loss: 0.602\n",
            "Epoch [33/50], Loss: 0.519\n",
            "Epoch [34/50], Loss: 0.687\n",
            "Epoch [35/50], Loss: 0.856\n",
            "Epoch [36/50], Loss: 0.956\n",
            "Epoch [37/50], Loss: 1.004\n",
            "Epoch [38/50], Loss: 0.906\n",
            "Epoch [39/50], Loss: 0.818\n",
            "Epoch [40/50], Loss: 0.466\n",
            "Epoch [41/50], Loss: 0.331\n",
            "Epoch [42/50], Loss: 0.888\n",
            "Epoch [43/50], Loss: 0.468\n",
            "Epoch [44/50], Loss: 0.496\n",
            "Epoch [45/50], Loss: 0.418\n",
            "Epoch [46/50], Loss: 0.321\n",
            "Epoch [47/50], Loss: 0.675\n",
            "Epoch [48/50], Loss: 0.510\n",
            "Epoch [49/50], Loss: 0.193\n",
            "Epoch [50/50], Loss: 0.415\n"
          ]
        }
      ]
    },
    {
      "cell_type": "code",
      "source": [
        "# Calculating training accuracy\n",
        "model.eval()\n",
        "all_train_labels = []\n",
        "all_train_predictions = []\n",
        "for batch_series, batch_labels in train_loader:\n",
        "        batch_series, batch_labels = batch_series.to(device), batch_labels.to(device)\n",
        "        outputs_train = model(batch_series)\n",
        "        _, predicted_train = torch.max(outputs_train, 1)\n",
        "\n",
        "        all_train_labels.extend(batch_labels.cpu().numpy())\n",
        "        all_train_predictions.extend(predicted_train.cpu().numpy())\n",
        "        accuracy_train_rnn = accuracy_score(all_train_labels, all_train_predictions)"
      ],
      "metadata": {
        "id": "4BPyP6wZu35s"
      },
      "execution_count": null,
      "outputs": []
    },
    {
      "cell_type": "code",
      "source": [
        "# Evaluation on the validation set\n",
        "with torch.no_grad():\n",
        "    model.eval()\n",
        "    all_val_labels = []\n",
        "    all_val_predictions = []\n",
        "    for batch_series, batch_labels in val_loader:\n",
        "        batch_series, batch_labels = batch_series.to(device), batch_labels.to(device)\n",
        "        outputs_val = model(batch_series)\n",
        "        _, predicted_val = torch.max(outputs_val, 1)\n",
        "\n",
        "        all_val_labels.extend(batch_labels.cpu().numpy())\n",
        "        all_val_predictions.extend(predicted_val.cpu().numpy())\n",
        "\n",
        "    accuracy_val_rnn = accuracy_score(all_val_labels, all_val_predictions)\n",
        "    print(f'Accuracy on the validation set: {accuracy_val_rnn:.3f}')"
      ],
      "metadata": {
        "id": "TK8SwKZzVyxP",
        "colab": {
          "base_uri": "https://localhost:8080/"
        },
        "outputId": "e0cbadd4-59b0-43c8-fb86-237fd061e682"
      },
      "execution_count": null,
      "outputs": [
        {
          "output_type": "stream",
          "name": "stdout",
          "text": [
            "Accuracy on the validation set: 0.826\n"
          ]
        }
      ]
    },
    {
      "cell_type": "code",
      "source": [
        "# Evaluation on the test set\n",
        "with torch.no_grad():\n",
        "    model.eval()\n",
        "    all_test_labels = []\n",
        "    all_test_predictions = []\n",
        "    for batch_series, batch_labels in test_loader:\n",
        "        batch_series, batch_labels = batch_series.to(device), batch_labels.to(device)\n",
        "        outputs_test = model(batch_series)\n",
        "        _, predicted_test = torch.max(outputs_test, 1)\n",
        "\n",
        "        all_test_labels.extend(batch_labels.cpu().numpy())\n",
        "        all_test_predictions.extend(predicted_test.cpu().numpy())\n",
        "\n",
        "    accuracy_test_rnn = accuracy_score(all_test_labels, all_test_predictions)\n",
        "    print(f'Accuracy on the test set: {accuracy_test_rnn:.3f}')"
      ],
      "metadata": {
        "colab": {
          "base_uri": "https://localhost:8080/"
        },
        "id": "zmgCu8UKNDlL",
        "outputId": "c7cd1cb9-7fda-4222-b449-38c942d1bf11"
      },
      "execution_count": null,
      "outputs": [
        {
          "output_type": "stream",
          "name": "stdout",
          "text": [
            "Accuracy on the test set: 0.84\n"
          ]
        }
      ]
    },
    {
      "cell_type": "markdown",
      "source": [
        "# **Performance**\n",
        "You must compare the performance of the implemented deep learning models. To this end, you must explain how you evaluated the performance to ensure a fair comparison."
      ],
      "metadata": {
        "id": "33K0ysSBqpXx"
      }
    },
    {
      "cell_type": "code",
      "source": [
        "data = {'Model': ['MLP', 'RNN'],\n",
        "        'Training Accuracy': [accuracy_train_mlp, accuracy_train_rnn],\n",
        "        'Testing Accuracy': [accuracy_test_mlp, accuracy_test_rnn]}\n",
        "performance = pd.DataFrame(data)\n",
        "performance.index = [''] * len(performance)\n",
        "performance"
      ],
      "metadata": {
        "colab": {
          "base_uri": "https://localhost:8080/",
          "height": 111
        },
        "id": "C5DppbKrHJs4",
        "outputId": "41b7d911-c4e4-4927-dc8b-59d52bfbaf51"
      },
      "execution_count": null,
      "outputs": [
        {
          "output_type": "execute_result",
          "data": {
            "text/plain": [
              " Model  Training Accuracy  Testing Accuracy\n",
              "   MLP           0.552662          0.549061\n",
              "   RNN           0.838737          0.836204"
            ],
            "text/html": [
              "\n",
              "  <div id=\"df-4697acc5-66c7-4f99-9de3-c4aac203aca2\" class=\"colab-df-container\">\n",
              "    <div>\n",
              "<style scoped>\n",
              "    .dataframe tbody tr th:only-of-type {\n",
              "        vertical-align: middle;\n",
              "    }\n",
              "\n",
              "    .dataframe tbody tr th {\n",
              "        vertical-align: top;\n",
              "    }\n",
              "\n",
              "    .dataframe thead th {\n",
              "        text-align: right;\n",
              "    }\n",
              "</style>\n",
              "<table border=\"1\" class=\"dataframe\">\n",
              "  <thead>\n",
              "    <tr style=\"text-align: right;\">\n",
              "      <th></th>\n",
              "      <th>Model</th>\n",
              "      <th>Training Accuracy</th>\n",
              "      <th>Testing Accuracy</th>\n",
              "    </tr>\n",
              "  </thead>\n",
              "  <tbody>\n",
              "    <tr>\n",
              "      <th></th>\n",
              "      <td>MLP</td>\n",
              "      <td>0.552662</td>\n",
              "      <td>0.549061</td>\n",
              "    </tr>\n",
              "    <tr>\n",
              "      <th></th>\n",
              "      <td>RNN</td>\n",
              "      <td>0.838737</td>\n",
              "      <td>0.836204</td>\n",
              "    </tr>\n",
              "  </tbody>\n",
              "</table>\n",
              "</div>\n",
              "    <div class=\"colab-df-buttons\">\n",
              "\n",
              "  <div class=\"colab-df-container\">\n",
              "    <button class=\"colab-df-convert\" onclick=\"convertToInteractive('df-4697acc5-66c7-4f99-9de3-c4aac203aca2')\"\n",
              "            title=\"Convert this dataframe to an interactive table.\"\n",
              "            style=\"display:none;\">\n",
              "\n",
              "  <svg xmlns=\"http://www.w3.org/2000/svg\" height=\"24px\" viewBox=\"0 -960 960 960\">\n",
              "    <path d=\"M120-120v-720h720v720H120Zm60-500h600v-160H180v160Zm220 220h160v-160H400v160Zm0 220h160v-160H400v160ZM180-400h160v-160H180v160Zm440 0h160v-160H620v160ZM180-180h160v-160H180v160Zm440 0h160v-160H620v160Z\"/>\n",
              "  </svg>\n",
              "    </button>\n",
              "\n",
              "  <style>\n",
              "    .colab-df-container {\n",
              "      display:flex;\n",
              "      gap: 12px;\n",
              "    }\n",
              "\n",
              "    .colab-df-convert {\n",
              "      background-color: #E8F0FE;\n",
              "      border: none;\n",
              "      border-radius: 50%;\n",
              "      cursor: pointer;\n",
              "      display: none;\n",
              "      fill: #1967D2;\n",
              "      height: 32px;\n",
              "      padding: 0 0 0 0;\n",
              "      width: 32px;\n",
              "    }\n",
              "\n",
              "    .colab-df-convert:hover {\n",
              "      background-color: #E2EBFA;\n",
              "      box-shadow: 0px 1px 2px rgba(60, 64, 67, 0.3), 0px 1px 3px 1px rgba(60, 64, 67, 0.15);\n",
              "      fill: #174EA6;\n",
              "    }\n",
              "\n",
              "    .colab-df-buttons div {\n",
              "      margin-bottom: 4px;\n",
              "    }\n",
              "\n",
              "    [theme=dark] .colab-df-convert {\n",
              "      background-color: #3B4455;\n",
              "      fill: #D2E3FC;\n",
              "    }\n",
              "\n",
              "    [theme=dark] .colab-df-convert:hover {\n",
              "      background-color: #434B5C;\n",
              "      box-shadow: 0px 1px 3px 1px rgba(0, 0, 0, 0.15);\n",
              "      filter: drop-shadow(0px 1px 2px rgba(0, 0, 0, 0.3));\n",
              "      fill: #FFFFFF;\n",
              "    }\n",
              "  </style>\n",
              "\n",
              "    <script>\n",
              "      const buttonEl =\n",
              "        document.querySelector('#df-4697acc5-66c7-4f99-9de3-c4aac203aca2 button.colab-df-convert');\n",
              "      buttonEl.style.display =\n",
              "        google.colab.kernel.accessAllowed ? 'block' : 'none';\n",
              "\n",
              "      async function convertToInteractive(key) {\n",
              "        const element = document.querySelector('#df-4697acc5-66c7-4f99-9de3-c4aac203aca2');\n",
              "        const dataTable =\n",
              "          await google.colab.kernel.invokeFunction('convertToInteractive',\n",
              "                                                    [key], {});\n",
              "        if (!dataTable) return;\n",
              "\n",
              "        const docLinkHtml = 'Like what you see? Visit the ' +\n",
              "          '<a target=\"_blank\" href=https://colab.research.google.com/notebooks/data_table.ipynb>data table notebook</a>'\n",
              "          + ' to learn more about interactive tables.';\n",
              "        element.innerHTML = '';\n",
              "        dataTable['output_type'] = 'display_data';\n",
              "        await google.colab.output.renderOutput(dataTable, element);\n",
              "        const docLink = document.createElement('div');\n",
              "        docLink.innerHTML = docLinkHtml;\n",
              "        element.appendChild(docLink);\n",
              "      }\n",
              "    </script>\n",
              "  </div>\n",
              "\n",
              "\n",
              "<div id=\"df-c5dd4bb8-acfe-4e49-b3a6-b6caee3a08c7\">\n",
              "  <button class=\"colab-df-quickchart\" onclick=\"quickchart('df-c5dd4bb8-acfe-4e49-b3a6-b6caee3a08c7')\"\n",
              "            title=\"Suggest charts\"\n",
              "            style=\"display:none;\">\n",
              "\n",
              "<svg xmlns=\"http://www.w3.org/2000/svg\" height=\"24px\"viewBox=\"0 0 24 24\"\n",
              "     width=\"24px\">\n",
              "    <g>\n",
              "        <path d=\"M19 3H5c-1.1 0-2 .9-2 2v14c0 1.1.9 2 2 2h14c1.1 0 2-.9 2-2V5c0-1.1-.9-2-2-2zM9 17H7v-7h2v7zm4 0h-2V7h2v10zm4 0h-2v-4h2v4z\"/>\n",
              "    </g>\n",
              "</svg>\n",
              "  </button>\n",
              "\n",
              "<style>\n",
              "  .colab-df-quickchart {\n",
              "      --bg-color: #E8F0FE;\n",
              "      --fill-color: #1967D2;\n",
              "      --hover-bg-color: #E2EBFA;\n",
              "      --hover-fill-color: #174EA6;\n",
              "      --disabled-fill-color: #AAA;\n",
              "      --disabled-bg-color: #DDD;\n",
              "  }\n",
              "\n",
              "  [theme=dark] .colab-df-quickchart {\n",
              "      --bg-color: #3B4455;\n",
              "      --fill-color: #D2E3FC;\n",
              "      --hover-bg-color: #434B5C;\n",
              "      --hover-fill-color: #FFFFFF;\n",
              "      --disabled-bg-color: #3B4455;\n",
              "      --disabled-fill-color: #666;\n",
              "  }\n",
              "\n",
              "  .colab-df-quickchart {\n",
              "    background-color: var(--bg-color);\n",
              "    border: none;\n",
              "    border-radius: 50%;\n",
              "    cursor: pointer;\n",
              "    display: none;\n",
              "    fill: var(--fill-color);\n",
              "    height: 32px;\n",
              "    padding: 0;\n",
              "    width: 32px;\n",
              "  }\n",
              "\n",
              "  .colab-df-quickchart:hover {\n",
              "    background-color: var(--hover-bg-color);\n",
              "    box-shadow: 0 1px 2px rgba(60, 64, 67, 0.3), 0 1px 3px 1px rgba(60, 64, 67, 0.15);\n",
              "    fill: var(--button-hover-fill-color);\n",
              "  }\n",
              "\n",
              "  .colab-df-quickchart-complete:disabled,\n",
              "  .colab-df-quickchart-complete:disabled:hover {\n",
              "    background-color: var(--disabled-bg-color);\n",
              "    fill: var(--disabled-fill-color);\n",
              "    box-shadow: none;\n",
              "  }\n",
              "\n",
              "  .colab-df-spinner {\n",
              "    border: 2px solid var(--fill-color);\n",
              "    border-color: transparent;\n",
              "    border-bottom-color: var(--fill-color);\n",
              "    animation:\n",
              "      spin 1s steps(1) infinite;\n",
              "  }\n",
              "\n",
              "  @keyframes spin {\n",
              "    0% {\n",
              "      border-color: transparent;\n",
              "      border-bottom-color: var(--fill-color);\n",
              "      border-left-color: var(--fill-color);\n",
              "    }\n",
              "    20% {\n",
              "      border-color: transparent;\n",
              "      border-left-color: var(--fill-color);\n",
              "      border-top-color: var(--fill-color);\n",
              "    }\n",
              "    30% {\n",
              "      border-color: transparent;\n",
              "      border-left-color: var(--fill-color);\n",
              "      border-top-color: var(--fill-color);\n",
              "      border-right-color: var(--fill-color);\n",
              "    }\n",
              "    40% {\n",
              "      border-color: transparent;\n",
              "      border-right-color: var(--fill-color);\n",
              "      border-top-color: var(--fill-color);\n",
              "    }\n",
              "    60% {\n",
              "      border-color: transparent;\n",
              "      border-right-color: var(--fill-color);\n",
              "    }\n",
              "    80% {\n",
              "      border-color: transparent;\n",
              "      border-right-color: var(--fill-color);\n",
              "      border-bottom-color: var(--fill-color);\n",
              "    }\n",
              "    90% {\n",
              "      border-color: transparent;\n",
              "      border-bottom-color: var(--fill-color);\n",
              "    }\n",
              "  }\n",
              "</style>\n",
              "\n",
              "  <script>\n",
              "    async function quickchart(key) {\n",
              "      const quickchartButtonEl =\n",
              "        document.querySelector('#' + key + ' button');\n",
              "      quickchartButtonEl.disabled = true;  // To prevent multiple clicks.\n",
              "      quickchartButtonEl.classList.add('colab-df-spinner');\n",
              "      try {\n",
              "        const charts = await google.colab.kernel.invokeFunction(\n",
              "            'suggestCharts', [key], {});\n",
              "      } catch (error) {\n",
              "        console.error('Error during call to suggestCharts:', error);\n",
              "      }\n",
              "      quickchartButtonEl.classList.remove('colab-df-spinner');\n",
              "      quickchartButtonEl.classList.add('colab-df-quickchart-complete');\n",
              "    }\n",
              "    (() => {\n",
              "      let quickchartButtonEl =\n",
              "        document.querySelector('#df-c5dd4bb8-acfe-4e49-b3a6-b6caee3a08c7 button');\n",
              "      quickchartButtonEl.style.display =\n",
              "        google.colab.kernel.accessAllowed ? 'block' : 'none';\n",
              "    })();\n",
              "  </script>\n",
              "</div>\n",
              "    </div>\n",
              "  </div>\n"
            ]
          },
          "metadata": {},
          "execution_count": 50
        }
      ]
    },
    {
      "cell_type": "markdown",
      "source": [
        "###***Training Accuracy***\n",
        "The MLP model achieved a training accuracy of 55.27%, while the RNN model outperformed the MLP on the training set, achieving a significantly higher accuracy of 83.87%. This in my opinion suggests that the RNN captured more complex patterns in the training data.\n",
        "###***Testing Accuracy***\n",
        "The MLP model had a testing accuracy of 54.91%, while the RNN model achieved 83.62%.\n"
      ],
      "metadata": {
        "id": "SHUrzXJA2Un2"
      }
    }
  ]
}
