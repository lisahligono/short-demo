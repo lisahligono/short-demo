{
  "nbformat": 4,
  "nbformat_minor": 0,
  "metadata": {
    "colab": {
      "provenance": [],
      "toc_visible": true,
      "authorship_tag": "ABX9TyPY3fI12yxeh/n5LF5cLDPs",
      "include_colab_link": true
    },
    "kernelspec": {
      "name": "python3",
      "display_name": "Python 3"
    },
    "language_info": {
      "name": "python"
    }
  },
  "cells": [
    {
      "cell_type": "markdown",
      "metadata": {
        "id": "view-in-github",
        "colab_type": "text"
      },
      "source": [
        "<a href=\"https://colab.research.google.com/github/lisahligono/short-demo/blob/main/boundary_opencv.ipynb\" target=\"_parent\"><img src=\"https://colab.research.google.com/assets/colab-badge.svg\" alt=\"Open In Colab\"/></a>"
      ]
    },
    {
      "cell_type": "markdown",
      "source": [
        "Boundary extraction using opencv"
      ],
      "metadata": {
        "id": "4g1qFNTcxQg4"
      }
    },
    {
      "cell_type": "code",
      "source": [
        "import cv2\n",
        "import numpy as np\n",
        "from google.colab.patches import cv2_imshow\n",
        "\n",
        "# Create an image with a rectangle\n",
        "img = np.zeros((200, 200), dtype=np.uint8)\n",
        "cv2.rectangle(img, (50, 50), (150, 150), (255), thickness=2)\n",
        "\n",
        "# Define the structuring element for the morphological operation\n",
        "kernel = cv2.getStructuringElement(cv2.MORPH_RECT, (3, 3))\n",
        "\n",
        "# Perform the morphological operation\n",
        "erosion = cv2.erode(img, kernel)\n",
        "boundary = cv2.absdiff(img, erosion)\n",
        "\n",
        "# Display the original image and the extracted boundary\n",
        "cv2_imshow(img)\n",
        "cv2_imshow(boundary)\n",
        "cv2.waitKey(0)\n",
        "cv2.destroyAllWindows()\n"
      ],
      "metadata": {
        "colab": {
          "base_uri": "https://localhost:8080/",
          "height": 417
        },
        "id": "pcljVrYTudrs",
        "outputId": "a740d84e-9cc9-4d3e-9a0c-ae4b467406c5"
      },
      "execution_count": null,
      "outputs": [
        {
          "output_type": "display_data",
          "data": {
            "text/plain": [
              "<PIL.Image.Image image mode=L size=200x200 at 0x7F8EC0F2C640>"
            ],
            "image/png": "[encoded data removed]"
          },
          "metadata": {}
        },
        {
          "output_type": "display_data",
          "data": {
            "text/plain": [
              "<PIL.Image.Image image mode=L size=200x200 at 0x7F8E8FFD3A90>"
            ],
            "image/png": "[encoded data removed]"
          },
          "metadata": {}
        }
      ]
    },
    {
      "cell_type": "code",
      "source": [
        "import cv2\n",
        "import numpy as np\n",
        "from google.colab.patches import cv2_imshow\n",
        "\n",
        "# Create an image with thicker shapes\n",
        "img = np.zeros((300, 300), dtype=np.uint8)\n",
        "cv2.rectangle(img, (50, 50), (250, 250), (255), thickness=-1)\n",
        "cv2.rectangle(img, (100, 100), (200, 200), (0), thickness=-1)\n",
        "cv2.circle(img, (150, 150), 50, (0), thickness=-1)\n",
        "cv2.line(img, (50, 50), (250, 250), (0), thickness=5)\n",
        "\n",
        "# Define the structuring element for the morphological operation\n",
        "kernel = cv2.getStructuringElement(cv2.MORPH_RECT, (5, 5))\n",
        "\n",
        "# Perform the morphological operation\n",
        "erosion = cv2.erode(img, kernel)\n",
        "boundary = cv2.absdiff(img, erosion)\n",
        "\n",
        "# Display the original image and the extracted boundary\n",
        "cv2_imshow(img)\n",
        "cv2_imshow(boundary)\n",
        "cv2.waitKey(0)\n",
        "cv2.destroyAllWindows()\n"
      ],
      "metadata": {
        "colab": {
          "base_uri": "https://localhost:8080/",
          "height": 617
        },
        "id": "hU7qf0ubxMVL",
        "outputId": "c3a6064e-f07b-487d-dce7-06be2ee21675"
      },
      "execution_count": null,
      "outputs": [
        {
          "output_type": "display_data",
          "data": {
            "text/plain": [
              "<PIL.Image.Image image mode=L size=300x300 at 0x7F8E900331F0>"
            ],
            "image/png": "[encoded data removed]"
          },
          "metadata": {}
        },
        {
          "output_type": "display_data",
          "data": {
            "text/plain": [
              "<PIL.Image.Image image mode=L size=300x300 at 0x7F8E90033460>"
            ],
            "image/png": "[encoded data removed]"
          },
          "metadata": {}
        }
      ]
    }
  ]
}